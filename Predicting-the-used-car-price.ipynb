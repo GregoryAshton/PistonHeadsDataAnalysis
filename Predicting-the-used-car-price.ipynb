{
 "cells": [
  {
   "cell_type": "markdown",
   "metadata": {},
   "source": [
    "# Predicting the used car price\n",
    "\n",
    "In this work I will use the test data set to see if we can predict the used car price using naive-Bayes style machine learning. I will begin with the simplest set up and try to build it from there."
   ]
  },
  {
   "cell_type": "code",
   "execution_count": 34,
   "metadata": {
    "collapsed": false
   },
   "outputs": [],
   "source": [
    "from sklearn.naive_bayes import GaussianNB\n",
    "from basic_tools import read_test_data\n",
    "import pandas as pd\n",
    "import matplotlib.pyplot as plt\n",
    "plt.rcParams['figure.figsize'] = (12, 10)\n",
    "%matplotlib inline"
   ]
  },
  {
   "cell_type": "markdown",
   "metadata": {},
   "source": [
    "## Getting test data\n",
    "\n",
    "First we read in out 10000 or so peices of test data on used BMW 1-series, then split them into a training set and a prediction set. To avoid errors we work only with complete rows of data: in reality it would be better to impute the missing values, but nevertheless."
   ]
  },
  {
   "cell_type": "code",
   "execution_count": 17,
   "metadata": {
    "collapsed": true
   },
   "outputs": [],
   "source": [
    "df = read_test_data()\n",
    "df = df.dropna()\n",
    "\n",
    "df_training = df[:len(df)/2].copy()\n",
    "df_predict = df[len(df)/2:].copy()"
   ]
  },
  {
   "cell_type": "markdown",
   "metadata": {},
   "source": [
    "## Learning\n",
    "\n",
    "The machine learning part can be as simple as [this example](http://machinelearningmastery.com/get-your-hands-dirty-with-scikit-learn-now/) which I will recreate here:"
   ]
  },
  {
   "cell_type": "code",
   "execution_count": 30,
   "metadata": {
    "collapsed": false
   },
   "outputs": [
    {
     "data": {
      "text/plain": [
       "GaussianNB()"
      ]
     },
     "execution_count": 30,
     "metadata": {},
     "output_type": "execute_result"
    }
   ],
   "source": [
    "model = GaussianNB()\n",
    "predictors = ['miles', 'bhp']\n",
    "y = df_training.price.values\n",
    "X = df_training[predictors].values\n",
    "model.fit(X, y)"
   ]
  },
  {
   "cell_type": "markdown",
   "metadata": {},
   "source": [
    "This created out `model` object, then we trained it to predict the `price` based on the `predictors`. For now I will use only the numeric data available. \n",
    "\n",
    "## Prediction\n",
    "\n",
    "Now we will predict the prices of the rest of the data set and scatter plot the\n",
    "predicted values agains the actual ones. I have included a straight line to help guide\n",
    "the eye. This demonstrates that, it is working at least to some extent:"
   ]
  },
  {
   "cell_type": "code",
   "execution_count": 39,
   "metadata": {
    "collapsed": false
   },
   "outputs": [
    {
     "data": {
      "image/png": "[encoded data removed]",
      "text/plain": [
       "<matplotlib.figure.Figure at 0x7fbcf7b7b510>"
      ]
     },
     "metadata": {},
     "output_type": "display_data"
    }
   ],
   "source": [
    "predictions = model.predict(df_predict[predictors])\n",
    "df_predict['predictions'] = predictions\n",
    "\n",
    "fig, ax = plt.subplots(figsize=(8, 6))\n",
    "ax = df_predict.plot('price', 'predictions', kind='scatter', ax=ax)\n",
    "ax.plot([0, 30000], [0, 30000])\n",
    "plt.show()"
   ]
  },
  {
   "cell_type": "markdown",
   "metadata": {},
   "source": [
    "This looks good, there are a few outliers, let's check them out in the original data set"
   ]
  },
  {
   "cell_type": "code",
   "execution_count": 40,
   "metadata": {
    "collapsed": false
   },
   "outputs": [
    {
     "data": {
      "text/html": [
       "<div>\n",
       "<table border=\"1\" class=\"dataframe\">\n",
       "  <thead>\n",
       "    <tr style=\"text-align: right;\">\n",
       "      <th></th>\n",
       "      <th>bhp</th>\n",
       "      <th>desc</th>\n",
       "      <th>fuel</th>\n",
       "      <th>loc</th>\n",
       "      <th>miles</th>\n",
       "      <th>price</th>\n",
       "      <th>transmission</th>\n",
       "    </tr>\n",
       "  </thead>\n",
       "  <tbody>\n",
       "    <tr>\n",
       "      <th>33</th>\n",
       "      <td>161</td>\n",
       "      <td>BMW 1 SERIES 120D SPORT                       ...</td>\n",
       "      <td>Diesel</td>\n",
       "      <td>Leicestershire</td>\n",
       "      <td>85800</td>\n",
       "      <td>85800</td>\n",
       "      <td>Manual</td>\n",
       "    </tr>\n",
       "  </tbody>\n",
       "</table>\n",
       "</div>"
      ],
      "text/plain": [
       "    bhp                                               desc    fuel  \\\n",
       "33  161  BMW 1 SERIES 120D SPORT                       ...  Diesel   \n",
       "\n",
       "               loc  miles  price transmission  \n",
       "33  Leicestershire  85800  85800       Manual  "
      ]
     },
     "execution_count": 40,
     "metadata": {},
     "output_type": "execute_result"
    }
   ],
   "source": [
    "df[df.price > 80000]"
   ]
  },
  {
   "cell_type": "markdown",
   "metadata": {},
   "source": [
    "## Differences\n",
    "\n",
    "Now we want to evaluate just how good out predictions are:"
   ]
  },
  {
   "cell_type": "code",
   "execution_count": 48,
   "metadata": {
    "collapsed": false
   },
   "outputs": [],
   "source": [
    "df_predict['diffs'] = np.abs(df_predict.price - df_predict.predictions)"
   ]
  },
  {
   "cell_type": "code",
   "execution_count": 55,
   "metadata": {
    "collapsed": false
   },
   "outputs": [
    {
     "data": {
      "image/png": "[encoded data removed]",
      "text/plain": [
       "<matplotlib.figure.Figure at 0x7fbcf2761b90>"
      ]
     },
     "metadata": {},
     "output_type": "display_data"
    }
   ],
   "source": [
    "ax = plt.subplot(111)\n",
    "out = ax.hist(df_predict.diffs.values, histtype=\"stepfilled\", bins=50)\n",
    "plt.show()"
   ]
  },
  {
   "cell_type": "code",
   "execution_count": 60,
   "metadata": {
    "collapsed": false
   },
   "outputs": [
    {
     "data": {
      "image/png": "[encoded data removed]",
      "text/plain": [
       "<matplotlib.figure.Figure at 0x7fbcf2853290>"
      ]
     },
     "metadata": {},
     "output_type": "display_data"
    }
   ],
   "source": [
    "ax = plt.subplot(111)\n",
    "out = ax.hist(df_predict[df_predict.diffs < 10000].diffs.values, histtype=\"stepfilled\", bins=20)\n",
    "plt.show()"
   ]
  },
  {
   "cell_type": "markdown",
   "metadata": {},
   "source": [
    "This is really quite bad. I would be fairly upset if I was £2000 pounds out!"
   ]
  },
  {
   "cell_type": "code",
   "execution_count": null,
   "metadata": {
    "collapsed": true
   },
   "outputs": [],
   "source": []
  }
 ],
 "metadata": {
  "kernelspec": {
   "display_name": "Python 2",
   "language": "python",
   "name": "python2"
  },
  "language_info": {
   "codemirror_mode": {
    "name": "ipython",
    "version": 2
   },
   "file_extension": ".py",
   "mimetype": "text/x-python",
   "name": "python",
   "nbconvert_exporter": "python",
   "pygments_lexer": "ipython2",
   "version": "2.7.8"
  }
 },
 "nbformat": 4,
 "nbformat_minor": 0
}
